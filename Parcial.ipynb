{
 "cells": [
  {
   "cell_type": "code",
   "execution_count": 35,
   "metadata": {},
   "outputs": [
    {
     "data": {
      "text/latex": [
       "$\\displaystyle \\frac{x^{3}}{2} + \\frac{x^{2}}{4} - \\frac{x}{4}$"
      ],
      "text/plain": [
       "x**3/2 + x**2/4 - x/4"
      ]
     },
     "execution_count": 35,
     "metadata": {},
     "output_type": "execute_result"
    }
   ],
   "source": [
    "import sympy as sp\n",
    "\n",
    "x = sp.Symbol('x')\n",
    "\n",
    "def recursivaPolinomios (terminos, p_1, p_2):\n",
    "    if terminos == 1:\n",
    "        return p_1\n",
    "    elif terminos == 2:\n",
    "        return p_2\n",
    "    elif terminos != 0:\n",
    "        p_n = sp.expand(p_2 * (x/2) - p_1*(x/4))\n",
    "        return recursivaPolinomios(terminos - 1, p_2, p_n)\n",
    "    else:\n",
    "        return p_2.expand()\n",
    "\n",
    "p_1 = x + 1\n",
    "p_2 = x**2+x\n",
    "\n",
    "recursivaPolinomios(3, p_1, p_2)\n",
    "\n",
    "\n"
   ]
  }
 ],
 "metadata": {
  "interpreter": {
   "hash": "f47f328483a5c82ae1bbec39e37377b90944225bea1853dc4587c0d62cffc57b"
  },
  "kernelspec": {
   "display_name": "Python 3.9.7 64-bit",
   "language": "python",
   "name": "python3"
  },
  "language_info": {
   "codemirror_mode": {
    "name": "ipython",
    "version": 3
   },
   "file_extension": ".py",
   "mimetype": "text/x-python",
   "name": "python",
   "nbconvert_exporter": "python",
   "pygments_lexer": "ipython3",
   "version": "3.9.7"
  },
  "orig_nbformat": 4
 },
 "nbformat": 4,
 "nbformat_minor": 2
}
